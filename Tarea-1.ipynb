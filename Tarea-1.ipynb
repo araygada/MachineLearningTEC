{
 "cells": [
  {
   "cell_type": "markdown",
   "id": "86cc6269",
   "metadata": {},
   "source": [
    "## Tarea-1"
   ]
  },
  {
   "cell_type": "markdown",
   "id": "d85747bb",
   "metadata": {},
   "source": [
    "# Aprendizaje automático\n",
    "# Tarea-1\n",
    "\n",
    "Prof. Felipe Meza Obando,\n",
    "Instituto Tecnológico de Costa Rica, \n",
    "\n",
    "Medio de entrega: Link de GitHub\n",
    "\n",
    "Entregables: Un archivo jupyter ( .IPYNB ). \n",
    "\n",
    "Modo de trabajo: Parejas:\n",
    "Estudiantes:\n",
    "\n",
    "Yu Hung Yeh\n",
    "\n",
    "José Alberto Raygada Agüero\n",
    "\n",
    "---\n",
    "\n",
    "Objetivo\n",
    "El objetivo de esta Tarea 1 consiste en normalizar y estandarizar el set\n",
    "de datos de daily-min-temperatures.csv de forma manual y automática a partir de scikit-learn\n",
    "o la librería que considere apropiada.\n",
    "\n",
    "---\n"
   ]
  },
  {
   "cell_type": "markdown",
   "id": "23107090",
   "metadata": {},
   "source": [
    "### Primero cargamos las librerías"
   ]
  },
  {
   "cell_type": "code",
   "execution_count": 1,
   "id": "c1799847",
   "metadata": {},
   "outputs": [],
   "source": [
    "# !pip install torch\n",
    "\n",
    "%matplotlib inline\n",
    "\n",
    "import matplotlib.pyplot as plt\n",
    "import pandas as pd\n",
    "import numpy as np\n",
    "import sklearn\n",
    "from sklearn.preprocessing import MinMaxScaler\n",
    "import sklearn.preprocessing\n",
    "import torch as torch\n",
    "\n",
    "\n",
    "#Funciones\n",
    "def bold(t):\n",
    "    \"\"\"\n",
    "    Funcion para formatear en negrita el texto.\n",
    "    t = cualquier dato\n",
    "    \"\"\"\n",
    "    return \"\\033[1m\" + str(t) + \"\\033[0m\"\n",
    "\n",
    "def newline():\n",
    "    \"\"\"\n",
    "    Funcion para imprimir cambio de linea\n",
    "    \"\"\"\n",
    "    print(\"\\r\\n\")\n"
   ]
  },
  {
   "cell_type": "markdown",
   "id": "7654529d",
   "metadata": {},
   "source": [
    "### Luego cargamos el archivo como un dataframe de csv"
   ]
  },
  {
   "cell_type": "code",
   "execution_count": 2,
   "id": "e066b9b3",
   "metadata": {
    "scrolled": true
   },
   "outputs": [
    {
     "data": {
      "text/html": [
       "<div>\n",
       "<style scoped>\n",
       "    .dataframe tbody tr th:only-of-type {\n",
       "        vertical-align: middle;\n",
       "    }\n",
       "\n",
       "    .dataframe tbody tr th {\n",
       "        vertical-align: top;\n",
       "    }\n",
       "\n",
       "    .dataframe thead th {\n",
       "        text-align: right;\n",
       "    }\n",
       "</style>\n",
       "<table border=\"1\" class=\"dataframe\">\n",
       "  <thead>\n",
       "    <tr style=\"text-align: right;\">\n",
       "      <th></th>\n",
       "      <th>Date</th>\n",
       "      <th>Temp</th>\n",
       "    </tr>\n",
       "  </thead>\n",
       "  <tbody>\n",
       "    <tr>\n",
       "      <th>0</th>\n",
       "      <td>1981-01-01</td>\n",
       "      <td>20.7</td>\n",
       "    </tr>\n",
       "    <tr>\n",
       "      <th>1</th>\n",
       "      <td>1981-01-02</td>\n",
       "      <td>17.9</td>\n",
       "    </tr>\n",
       "    <tr>\n",
       "      <th>2</th>\n",
       "      <td>1981-01-03</td>\n",
       "      <td>18.8</td>\n",
       "    </tr>\n",
       "    <tr>\n",
       "      <th>3</th>\n",
       "      <td>1981-01-04</td>\n",
       "      <td>14.6</td>\n",
       "    </tr>\n",
       "    <tr>\n",
       "      <th>4</th>\n",
       "      <td>1981-01-05</td>\n",
       "      <td>15.8</td>\n",
       "    </tr>\n",
       "  </tbody>\n",
       "</table>\n",
       "</div>"
      ],
      "text/plain": [
       "         Date  Temp\n",
       "0  1981-01-01  20.7\n",
       "1  1981-01-02  17.9\n",
       "2  1981-01-03  18.8\n",
       "3  1981-01-04  14.6\n",
       "4  1981-01-05  15.8"
      ]
     },
     "execution_count": 2,
     "metadata": {},
     "output_type": "execute_result"
    }
   ],
   "source": [
    "df = pd.read_csv(r\"daily-min-temperatures.txt\")\n",
    "df.head()"
   ]
  },
  {
   "cell_type": "markdown",
   "id": "fd418edd",
   "metadata": {},
   "source": [
    "### Se selecciona únicamente la columna de temperatura que es el dato que podemos estandarizar"
   ]
  },
  {
   "cell_type": "code",
   "execution_count": 3,
   "id": "11b555e4",
   "metadata": {},
   "outputs": [
    {
     "name": "stdout",
     "output_type": "stream",
     "text": [
      "\u001b[1mEstandarización y normalización automática\u001b[0m\n",
      "----------------------------------------------\n",
      "\r\n",
      "\n",
      "\u001b[1mFeatures estandarizados y normalizados\u001b[0m\n",
      "\r\n",
      "\n",
      "          Temp\n",
      "0     0.787072\n",
      "1     0.680608\n",
      "2     0.714829\n",
      "3     0.555133\n",
      "4     0.600760\n",
      "...        ...\n",
      "3645  0.532319\n",
      "3646  0.517110\n",
      "3647  0.513308\n",
      "3648  0.596958\n",
      "3649  0.494297\n",
      "\n",
      "[3650 rows x 1 columns]\n"
     ]
    }
   ],
   "source": [
    "print(bold(\"Estandarización y normalización automática\"))\n",
    "print(\"----------------------------------------------\")\n",
    "newline()    \n",
    "\n",
    "feature = df[[\"Temp\"]]\n",
    "\n",
    "scaler = MinMaxScaler()\n",
    "nombreColumnas = feature.columns.to_numpy()\n",
    "datosEscalados = pd.DataFrame(scaler.fit_transform(feature), columns = nombreColumnas)\n",
    "\n",
    "print(bold(\"Features estandarizados y normalizados\"))\n",
    "newline()    \n",
    "print(datosEscalados)\n"
   ]
  },
  {
   "cell_type": "code",
   "execution_count": null,
   "id": "0b97e066",
   "metadata": {},
   "outputs": [],
   "source": []
  },
  {
   "cell_type": "code",
   "execution_count": 24,
   "id": "8ebb02fb",
   "metadata": {},
   "outputs": [
    {
     "name": "stdout",
     "output_type": "stream",
     "text": [
      "          Temp\n",
      "0     0.787072\n",
      "1     0.680608\n",
      "2     0.714829\n",
      "3     0.555133\n",
      "4     0.600760\n",
      "...        ...\n",
      "3645  0.532319\n",
      "3646  0.517110\n",
      "3647  0.513308\n",
      "3648  0.596958\n",
      "3649  0.494297\n",
      "\n",
      "[3650 rows x 1 columns]\n"
     ]
    }
   ],
   "source": [
    "# Escalamiento mim max manual\n",
    "\n",
    "minimo = feature.min()\n",
    "maximo = feature.max()\n",
    "\n",
    "minmax = (feature - minimo) / (maximo - minimo)\n",
    "print(minmax)"
   ]
  },
  {
   "cell_type": "code",
   "execution_count": 4,
   "id": "26a389f6",
   "metadata": {},
   "outputs": [
    {
     "name": "stdout",
     "output_type": "stream",
     "text": [
      "\u001b[1mEstandarización y normalización manual\u001b[0m\n",
      "----------------------------------------------\n",
      "\r\n",
      "\n",
      "tensor([718.7064], dtype=torch.float64)\n"
     ]
    }
   ],
   "source": [
    "def norm2(v):\n",
    "    \"\"\"\n",
    "    Funcion para calculo de distancia Eucliciana o l2\n",
    "    v = vector\n",
    "    \"\"\"\n",
    "    sum = torch.tensor(0)\n",
    "    for x in v:\n",
    "        sum = sum + x ** 2\n",
    "    \n",
    "    return sum.sqrt()\n",
    "\n",
    "\n",
    "feature_tensor = torch.tensor(feature.values)\n",
    "\n",
    "resultado_manual = norm2(feature_tensor)\n",
    "\n",
    "print(bold(\"Estandarización y normalización manual\"))\n",
    "print(\"----------------------------------------------\")\n",
    "newline()  \n",
    "\n",
    "print(resultado_manual)"
   ]
  },
  {
   "cell_type": "code",
   "execution_count": 33,
   "id": "9e836bea",
   "metadata": {},
   "outputs": [
    {
     "name": "stdout",
     "output_type": "stream",
     "text": [
      "\u001b[1mNormalización automática\u001b[0m\n",
      "----------------------------------------------\n",
      "[[1.]\n",
      " [1.]\n",
      " [1.]\n",
      " ...\n",
      " [1.]\n",
      " [1.]\n",
      " [1.]]\n"
     ]
    }
   ],
   "source": [
    "# Normalización de los datos (automático)\n",
    "\n",
    "from sklearn.preprocessing import Normalizer\n",
    "\n",
    "feature_tensor = torch.tensor(feature.values)\n",
    "\n",
    "normalizador = Normalizer(norm=\"l2\")\n",
    "\n",
    "normalizados_automatico = normalizador.transform(feature_tensor)\n",
    "\n",
    "print(bold(\"Normalización automática\"))\n",
    "print(\"----------------------------------------------\")\n",
    "print(normalizados_automatico)"
   ]
  },
  {
   "cell_type": "code",
   "execution_count": 32,
   "id": "ff2c44a4",
   "metadata": {},
   "outputs": [
    {
     "name": "stdout",
     "output_type": "stream",
     "text": [
      "718.7063517181411\n"
     ]
    }
   ],
   "source": [
    "# Normalización de los datos (manual)\n",
    "\n",
    "import math as math\n",
    "\n",
    "def my_norma2(v1):\n",
    "    norma2 = math.sqrt(sum(i*i for i in v1))\n",
    "    return norma2\n",
    "\n",
    "normalizados_manual = my_norma2(feature_tensor)\n",
    "print(normalizados_manual)\n"
   ]
  },
  {
   "cell_type": "code",
   "execution_count": 40,
   "id": "3688036e",
   "metadata": {},
   "outputs": [],
   "source": [
    "promedio = minmax.mean()\n",
    "desv_std = minmax.std()\n",
    "\n",
    "estandarizado = ((minmax - promedio) / desv_std)"
   ]
  },
  {
   "cell_type": "code",
   "execution_count": 43,
   "id": "d3fb0bea",
   "metadata": {},
   "outputs": [
    {
     "name": "stdout",
     "output_type": "stream",
     "text": [
      "      Temp\n",
      "0     20.7\n",
      "1     17.9\n",
      "2     18.8\n",
      "3     14.6\n",
      "4     15.8\n",
      "...    ...\n",
      "3645  14.0\n",
      "3646  13.6\n",
      "3647  13.5\n",
      "3648  15.7\n",
      "3649  13.0\n",
      "\n",
      "[3650 rows x 1 columns]\n",
      "\u001b[1m\n",
      "Estandarizado manual: \u001b[0m\n",
      "----------------------------------------------\n",
      "\n",
      "          Temp\n",
      "0     2.338563\n",
      "1     1.650913\n",
      "2     1.871943\n",
      "3     0.840467\n",
      "4     1.135175\n",
      "...        ...\n",
      "3645  0.693114\n",
      "3646  0.594878\n",
      "3647  0.570319\n",
      "3648  1.110616\n",
      "3649  0.447524\n",
      "\n",
      "[3650 rows x 1 columns]\n"
     ]
    }
   ],
   "source": [
    "print(feature)\n",
    "print(bold(\"\\nEstandarizado manual: \"))\n",
    "print(\"----------------------------------------------\\n\")\n",
    "print(estandarizado)"
   ]
  },
  {
   "cell_type": "code",
   "execution_count": 42,
   "id": "1d9aa90a",
   "metadata": {},
   "outputs": [
    {
     "name": "stdout",
     "output_type": "stream",
     "text": [
      "\u001b[1mEstandarizado automático: \u001b[0m\n",
      "----------------------------------------------\n",
      "\n",
      "[[2.33888328]\n",
      " [1.65113873]\n",
      " [1.87219948]\n",
      " ...\n",
      " [0.5703973 ]\n",
      " [1.11076801]\n",
      " [0.44758577]]\n"
     ]
    }
   ],
   "source": [
    "from sklearn.preprocessing import StandardScaler\n",
    "sc = StandardScaler()\n",
    "\n",
    "estandarizado_automatico = sc.fit_transform(feature)\n",
    "\n",
    "print(bold(\"Estandarizado automático: \"))\n",
    "print(\"----------------------------------------------\\n\")\n",
    "print(estandarizado_automatico)"
   ]
  },
  {
   "cell_type": "code",
   "execution_count": null,
   "id": "f2f6d7ed",
   "metadata": {},
   "outputs": [],
   "source": []
  }
 ],
 "metadata": {
  "kernelspec": {
   "display_name": "Python 3",
   "language": "python",
   "name": "python3"
  },
  "language_info": {
   "codemirror_mode": {
    "name": "ipython",
    "version": 3
   },
   "file_extension": ".py",
   "mimetype": "text/x-python",
   "name": "python",
   "nbconvert_exporter": "python",
   "pygments_lexer": "ipython3",
   "version": "3.8.8"
  }
 },
 "nbformat": 4,
 "nbformat_minor": 5
}
