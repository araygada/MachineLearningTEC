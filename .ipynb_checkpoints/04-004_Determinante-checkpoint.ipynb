{
 "cells": [
  {
   "cell_type": "markdown",
   "metadata": {},
   "source": [
    "# Matemática para Ciencia de los Datos\n",
    "- Documento base: Saúl Calderón, Žiga Emeršič, Ángel García, Blaž Meden, Felipe Meza, Martín Solís, Juan Esquivel, Mauro Méndez, Manuel Zumbado, Luis-Alexánder Calvo-Valverde.\n"
   ]
  },
  {
   "cell_type": "markdown",
   "metadata": {
    "colab_type": "text",
    "id": "iyUvAxOzdgMc"
   },
   "source": [
    "# Determinante de una matriz\n",
    "\n",
    "El determinante de una matriz cuadrada $A\\in\\mathbb{R}^{n\\times n}$ es una función denotada como $\\textrm{det}\\left(A\\right):\\mathbb{R}^{n\\times n}\\rightarrow\\mathbb{R}$ es decir, asigna matrices a escalares en el espacio de los números reales. \n",
    "\n",
    "Antes de detallar la fórmula que define al determinante, examinaremos la interpretación geométrica del determinante. El valor absoluto del determinante se puede considerar como una medida de cuánto la multiplicación por la matriz expande o contrae el espacio. Si el determinante es 0, entonces el espacio se contrae completamente a lo largo de al menos una dimensión, haciendo que pierda todo su volumen. Si el determinante es 1, entonces la transformación conserva el volumen.\n",
    "\n",
    "Sea una matriz compuesta por múltiples filas: \n",
    "\n",
    "\\begin{equation}\n",
    "A=\\begin{bmatrix}- & \\vec{a}_{1,:}^{T} & -\\\\\n",
    "- & \\vec{a}_{2,:}^{T} & -\\\\\n",
    " & \\vdots\\\\\n",
    "- & \\vec{a}_{n,:}^{T} & -\n",
    "\\end{bmatrix}\n",
    "\\end{equation}\n",
    "\n",
    "considere el conjunto de puntos $S\\subset\\mathbb{R}^{n}$ formado al tomar todas las combinaciones lineales posibles de los vectores fila $\\vec{a}_{i,:}^{T}$, donde los coeficientes de tal combinación lineal cumplen que $0\\leq\\alpha_{i}\\leq1,i=1,\\ldots,n$, lo cual formalmente se denota como: \n",
    "\n",
    "\\begin{equation}\n",
    "S=\\left\\{ \\vec{v}\\in\\mathbb{R}^{n}:\\vec{v}=\\sum_{i=1}^{n}\\alpha_{i}\\vec{a}_{i,:},\\qquad0\\leq\\alpha_{i}\\leq1,i=1,\\ldots,n\\right\\} \n",
    "\\end{equation}\n",
    "\n",
    "El valor absoluto del determinante de la matriz $A$, $\\left|\\textrm{det}\\left(A\\right)\\right|$, corresponde a una medida del volumen de todo el conjunto $S$. \n",
    "\n",
    "Por ejemplo, para la matriz $A\\in\\mathbb{R}^{2\\times2}$: \n",
    "\n",
    "\\begin{equation}\n",
    "A=\\begin{bmatrix}1 & 3\\\\\n",
    "3 & 2\n",
    "\\end{bmatrix}\n",
    "\\end{equation}\n",
    "\n",
    "cuyos vectores fila están dados por: \n",
    "\n",
    "\\begin{equation}\n",
    "\\vec{a}_{1,:}=\\begin{bmatrix}1\\\\\n",
    "3\n",
    "\\end{bmatrix}\\qquad\\vec{a}_{2,:}=\\begin{bmatrix}3\\\\\n",
    "2\n",
    "\\end{bmatrix}\n",
    "\\end{equation}\n",
    "\n",
    "![](https://drive.google.com/uc?export=view&id=1NQT1S63yH27AE4cO1d_YIsi5CkBmwfZ-)\n",
    "\n",
    "\n",
    "se muestra en la Figura, sombreado, el conjunto de puntos $S$. Observe que el punto ``extremo'' $\\vec{a}_{1,:}+\\vec{a}_{2,:}=\\begin{bmatrix}4\\\\\n",
    "5\n",
    "\\end{bmatrix}$, viene dado cuando $\\alpha_{1}=\\alpha_{2}=1$. El determinante para una matriz de $2\\times2$ se define como: \n",
    "\n",
    "\\begin{equation}\n",
    "\\textrm{det}\\left(\\begin{bmatrix}a & b\\\\\n",
    "c & d\n",
    "\\end{bmatrix}\\right)=a\\,d-b\\,c\n",
    "\\end{equation}\n",
    "\n",
    "y para cualquier matriz de $n\\times n$ dimensiones (con n >2),  el determinante se define recursivamente mediante la regla de Laplace para una fila cualquiera (o columna), de la siguiente forma (en este caso para la fila 1): \n",
    "\n",
    "\\begin{equation}\n",
    "\\textrm{det}\\left(A\\right)=A_{1,1}\\textrm{det}\\left(A_{\\backslash1,\\backslash1}\\right)-A_{1,2}\\textrm{det}\\left(A_{\\backslash1,\\backslash2}\\right)+\\ldots\\pm A_{1,n}\\textrm{det}\\left(A_{\\backslash1,\\backslash n}\\right)\n",
    "\\end{equation}\n",
    "\n",
    "lo cual es equivalente también a escoger cualquier fila o columna. En este caso se fija el i o la columna j de la siguiente forma: \n",
    "\n",
    "\\begin{equation}\n",
    "\\textrm{det}\\left(A\\right)=\\sum_{i=1}^{n}\\left(-1\\right)^{i+j}A_{i,j}\\left|A_{\\backslash i,\\backslash j}\\right|=\\sum_{j=1}^{n}\\left(-1\\right)^{i+j}A_{i,j}\\left|A_{\\backslash i,\\backslash j}\\right|\n",
    "\\end{equation}\n",
    "\n",
    "Observe que el determinante consiste en la combinación lineal de los determinantes de las submatrices resultantes de eliminar la fila $i$ y columna $j$ (denotado como $\\textrm{det}\\left(A_{\\backslash i,\\backslash j}\\right)$), multiplicado por el elemento $A_{1,i}$. Con la matriz de ejemplo $A=\\begin{bmatrix}1 & 3\\\\ 3 & 2 \\end{bmatrix}$ , el determinante viene entonces dado por: $\\textrm{det}\\left(A\\right)=1\\cdot2-3\\cdot3=-7$, y tomando su valor absoluto, se tiene que $\\left|\\textrm{det}\\left(A\\right)\\right|=7$, lo que corresponde al área del paralelogramo formado por el conjunto de puntos $S$ (en $n$ dimensiones, se refiere como paralelótopo).\n",
    "\n",
    "\n",
    "<h3 align=\"center\">Región $S$ de ejemplo.</h3> \n",
    "\n",
    "Las siguientes son propiedades de la función determinante $\\textrm{det}\\left(A\\right)$ para una matriz cuadrada $A\\in\\mathbb{R}^{n\\times n}$ :\n",
    "\n",
    "- $\\textrm{det}\\left(I\\right)=1$.\n",
    "- Homogeneidad: Sea un escalar $s\\in\\mathbb{R}$, $\\textrm{det}\\left(s\\,A\\right)=s\\,\\textrm{det}\\left(A\\right)$\n",
    "- $\\textrm{det}\\left(A\\right)=\\textrm{det}\\left(A^{T}\\right)$\n",
    "- $\\textrm{det}\\left(A\\,B\\right)=\\textrm{det}\\left(A\\right)\\,\\textrm{det}\\left(B\\right)$\n",
    "- $\\textrm{det}\\left(A\\right)=0$, implica que $A$ es una matriz singular (no invertible), por lo que entonces no tiene rango completo, y sus columnas son **linealmente dependientes**, lo que implica además la superficie $S$ no tiene volumen, al ser los vectores combinación lineal.\n",
    "- $\\textrm{det}\\left(A^{-1}\\right)=1/\\textrm{det}\\left(A\\right)$\n"
   ]
  },
  {
   "cell_type": "code",
   "execution_count": 1,
   "metadata": {
    "colab": {
     "base_uri": "https://localhost:8080/",
     "height": 68
    },
    "colab_type": "code",
    "id": "I1aHVuxNuxcL",
    "outputId": "03e236a2-e0b7-4e8d-9d9a-00caa9d69820"
   },
   "outputs": [
    {
     "name": "stdout",
     "output_type": "stream",
     "text": [
      "tensor([[1., 2., 3.],\n",
      "        [4., 5., 6.],\n",
      "        [7., 8., 9.]], dtype=torch.float64)\n",
      "tensor([[1., 3.],\n",
      "        [3., 2.]], dtype=torch.float64)\n"
     ]
    }
   ],
   "source": [
    "import torch\n",
    "m1 = torch.tensor([[1,2,3],[4,5,6],[7,8,9]]).double()\n",
    "m2 = torch.tensor([[1,3],[3,2]]).double()\n",
    "print(m1)\n",
    "print(m2)"
   ]
  },
  {
   "cell_type": "code",
   "execution_count": 3,
   "metadata": {
    "scrolled": true
   },
   "outputs": [
    {
     "name": "stdout",
     "output_type": "stream",
     "text": [
      "m1 es una matriz no inverible\n",
      "Determinante = tensor(-9.5162e-16, dtype=torch.float64)\n",
      "Rango = tensor(2)\n",
      "¿Determinante casi cero? tensor(True)\n",
      "-----------------------------------------\n",
      "m2 matriz invertible\n",
      "Determinante = tensor(-7., dtype=torch.float64)\n",
      "Rango = tensor(2)\n"
     ]
    }
   ],
   "source": [
    "print('m1 es una matriz no inverible')\n",
    "print(\"Determinante =\", torch.det(m1))\n",
    "print(\"Rango =\", torch.matrix_rank(m1))\n",
    "print(\"¿Determinante casi cero?\",torch.det(m1)<0.00000000001)\n",
    "print(\"-----------------------------------------\")\n",
    "print('m2 matriz invertible')\n",
    "print(\"Determinante =\", torch.det(m2))\n",
    "print(\"Rango =\", torch.matrix_rank(m2))"
   ]
  },
  {
   "cell_type": "markdown",
   "metadata": {},
   "source": [
    "## Ejemplo matriz 3 x 3\n",
    "\n",
    "Para una matriz 3 x3:\n",
    "\n",
    "\\begin{equation}\n",
    "A=\\begin{bmatrix}a_{1,1} & a_{1,2} & a_{1,3}\\\\\n",
    "a_{2,1} & a_{2,2} & a_{2,3}\\\\\n",
    "a_{3,1} & a_{3,2} & a_{3,3}\n",
    "\\end{bmatrix} = a_{1,1}\\textrm{det}\\left(\\begin{bmatrix}a_{2,2} & a_{2,3}\\\\\n",
    "a_{3,2} & a_{3,3}\n",
    "\\end{bmatrix}\\right) - a_{1,2}\\textrm{det}\\left(\\begin{bmatrix}a_{2,1} & a_{2,3}\\\\\n",
    "a_{3,1} & a_{3,3}\n",
    "\\end{bmatrix}\\right) + a_{1,3}\\textrm{det}\\left(\\begin{bmatrix}a_{2,1} & a_{2,2}\\\\\n",
    "a_{3,1} & a_{3,2}\n",
    "\\end{bmatrix}\\right)\n",
    "\\end{equation}\n"
   ]
  },
  {
   "cell_type": "markdown",
   "metadata": {},
   "source": [
    "**Referencias:**\n",
    "\n",
    "Ferrer, L(nd.). Matrices, determinantes y sistemas de ecuaciones lineales. http://www.ugr.es/~lferrer/tema4.pdf    "
   ]
  },
  {
   "cell_type": "code",
   "execution_count": null,
   "metadata": {},
   "outputs": [],
   "source": []
  }
 ],
 "metadata": {
  "colab": {
   "collapsed_sections": [],
   "name": "4_LACV_DeterminanteyAutoVectores.ipynb",
   "provenance": [],
   "toc_visible": true
  },
  "kernelspec": {
   "display_name": "Python 3",
   "language": "python",
   "name": "python3"
  },
  "language_info": {
   "codemirror_mode": {
    "name": "ipython",
    "version": 3
   },
   "file_extension": ".py",
   "mimetype": "text/x-python",
   "name": "python",
   "nbconvert_exporter": "python",
   "pygments_lexer": "ipython3",
   "version": "3.8.8"
  }
 },
 "nbformat": 4,
 "nbformat_minor": 4
}
